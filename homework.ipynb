{
 "cells": [
  {
   "cell_type": "markdown",
   "metadata": {},
   "source": [
    "<h1>My Jupyter Notebook on github</h1>\n"
   ]
  },
  {
   "cell_type": "markdown",
   "metadata": {},
   "source": [
    "<b>Jose David Chagui Ahumada</b>"
   ]
  },
  {
   "cell_type": "markdown",
   "metadata": {},
   "source": [
    "<i>I like data science because it is a step towards the improvement of any type of company that wants to be part of the market. </i>\n",
    "<br>\n",
    "<i>I also like it because it is an area that works with artificial intelligence, which is a tool that I want to learn to implement in my research and business. </i>"
   ]
  },
  {
   "cell_type": "markdown",
   "metadata": {},
   "source": [
    "<h3>This code performs a sum of all the elements of a numeric list. </h3>"
   ]
  },
  {
   "cell_type": "code",
   "execution_count": 1,
   "metadata": {},
   "outputs": [
    {
     "name": "stdout",
     "output_type": "stream",
     "text": [
      "41\n"
     ]
    }
   ],
   "source": [
    "import math\n",
    "\n",
    "def ArraySum(ar):\n",
    "    suma=0\n",
    "    for i in ar:\n",
    "        suma=i+suma\n",
    "    return suma\n",
    "\n",
    "\n",
    "\n",
    "ar=[1,2,3,4,10,21]\n",
    "\n",
    "print(ArraySum(ar))\n",
    "\n",
    "\n",
    "\n"
   ]
  },
  {
   "cell_type": "markdown",
   "metadata": {},
   "source": [
    "<hr>\n",
    "<h4>there is nothing better than writing codes and having a <del>beer</del> cup of coffee. </h4>\n",
    "<img src=\"http://scottjanish.com/wp-content/uploads/2019/08/Coffee-Beers.jpg\" style=\"width: 630px; height: 500px;\">\n"
   ]
  }
 ],
 "metadata": {
  "interpreter": {
   "hash": "61020f471d1621a0cd21f9b21b786bd59f526eef45cd4b5315cd9c6767c1f40d"
  },
  "kernelspec": {
   "display_name": "Python 3.9.10 64-bit (windows store)",
   "language": "python",
   "name": "python3"
  },
  "language_info": {
   "codemirror_mode": {
    "name": "ipython",
    "version": 3
   },
   "file_extension": ".py",
   "mimetype": "text/x-python",
   "name": "python",
   "nbconvert_exporter": "python",
   "pygments_lexer": "ipython3",
   "version": "3.9.7"
  },
  "orig_nbformat": 4
 },
 "nbformat": 4,
 "nbformat_minor": 2
}
